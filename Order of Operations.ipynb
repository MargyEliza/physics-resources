{
 "cells": [
  {
   "cell_type": "markdown",
   "metadata": {},
   "source": [
    "# Order of Operations"
   ]
  },
  {
   "cell_type": "markdown",
   "metadata": {},
   "source": [
    "When facing a math test a student may come across a question like this: $$ 8 \\div (3 + 5) \\times 11 + 21 =  ? $$\n",
    "\n",
    "As if by reflex most students will remember the saying, \"Please Excuse My Dear Aunt Sally\", or PEMDAS for short. This acronym of course stands for Parantheses, Exponents, Multiplication, Division, Addition, and Subraction, which all together is the dreaded \"Order of Operations\". \n",
    "\n",
    "In theory the Order of Operations is a uniform system which gives the order in which each operation must be done. This order is to be followed to complete a complex math equation such as the one above. With the Order of Opeation there should be only one way to approach a problem, meaning that if the rules are followed anyone should get the agreed upon, \"right\" answer. With the Order of Operations in mind lets solve the above question. We first have to deal with any parentheses: $$ 8 \\div (3 + 5) \\times 11 + 21 = $$\n",
    "$$ 8 \\div (8) \\times 11 + 21 $$\n",
    "\n",
    "Now here comes the tricky part: now what? Following PEMDAS we see we can skip the exponent step as there are no exponenets\n"
   ]
  },
  {
   "cell_type": "code",
   "execution_count": null,
   "metadata": {
    "collapsed": true
   },
   "outputs": [],
   "source": []
  }
 ],
 "metadata": {
  "kernelspec": {
   "display_name": "Python 3",
   "language": "python",
   "name": "python3"
  },
  "language_info": {
   "codemirror_mode": {
    "name": "ipython",
    "version": 3
   },
   "file_extension": ".py",
   "mimetype": "text/x-python",
   "name": "python",
   "nbconvert_exporter": "python",
   "pygments_lexer": "ipython3",
   "version": "3.4.4"
  }
 },
 "nbformat": 4,
 "nbformat_minor": 0
}

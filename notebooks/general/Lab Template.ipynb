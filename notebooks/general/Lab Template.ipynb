{
 "cells": [
  {
   "cell_type": "markdown",
   "metadata": {},
   "source": [
    "# Lab Title \n",
    "[Here's a decent outline for writing lab reports](http://www.union.edu/Resources/Academic/writing/Help/Faculty/Orzel/GuideToWritingLabReports.php)"
   ]
  },
  {
   "cell_type": "markdown",
   "metadata": {},
   "source": [
    "### Abstract:\n",
    "_Your brief summary of what you've done, why you've done it, how you've done it, and what you learned. If this sounds like the whole lab report, it kind of is; it's like a mini-report within the actual report. For this reason, you'd better write this section last. There's some great tips on writing a solid abstract [here](https://physics.illinois.edu/undergrad/SeniorThesis/Abstracts.pdf)._"
   ]
  },
  {
   "cell_type": "markdown",
   "metadata": {},
   "source": [
    "### Introduction:\n",
    "_Why are we conducting this experiment? Is there any relevant background information that needs to be discussed before delving into the problem? What type of theory does one need to know before being able to understand the work presented? Are there necessary equations?_\n",
    "\n",
    "_And if you need to type inline equations, you can as follows:_$\\Delta y = v_i \\Delta t + \\frac{1}{2} a t^2$\n",
    "\n",
    "\n",
    "\n",
    "_Feel free to copy this equation or use the [$\\LaTeX$ cheat sheet](http://users.dickinson.edu/~richesod/latex/latexcheatsheet.pdf) to learn how to do this yourself._\n"
   ]
  },
  {
   "cell_type": "markdown",
   "metadata": {},
   "source": [
    "### Procedure:\n",
    "_Finally, something with which you're familiar. Write down what you did, and don't spare the detail; the idea is that someone should be able to repeat your experiment based on your description._"
   ]
  },
  {
   "cell_type": "markdown",
   "metadata": {},
   "source": [
    "### Data Analysis/Results:\n",
    "_Sometimes this gets lumped in with procedure, but for now I'd like to see it get its own section. Here's where you can dump your data and discuss your analysis. It's important that this section not be solely comprised of graphs and equations - write liberally to document your analysis._\n",
    "\n",
    "_If you need to add plots from matplotlib, you can make them in a code cell, save the images, and insert them here like so using plain HTML_ \n",
    "<img src=\"figure_1.png\" width=\"400\" height=\"300\">\n",
    "\n",
    "_You can include fancy display equations here as well:_\n",
    "$$ x= \\frac{-b\\pm\\sqrt{b^2 - 4 a c}}{2 a} $$"
   ]
  },
  {
   "cell_type": "markdown",
   "metadata": {},
   "source": [
    "### Conclusion:\n",
    "_What does your data say -- does it agree with predictions? Did you learn anything? How could you improve on your current setup?_"
   ]
  }
 ],
 "metadata": {
  "kernelspec": {
   "display_name": "Python 3",
   "language": "python",
   "name": "python3"
  },
  "language_info": {
   "codemirror_mode": {
    "name": "ipython",
    "version": 3
   },
   "file_extension": ".py",
   "mimetype": "text/x-python",
   "name": "python",
   "nbconvert_exporter": "python",
   "pygments_lexer": "ipython3",
   "version": "3.4.4"
  }
 },
 "nbformat": 4,
 "nbformat_minor": 0
}

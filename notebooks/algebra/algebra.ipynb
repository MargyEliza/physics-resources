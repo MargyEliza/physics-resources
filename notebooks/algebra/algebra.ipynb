{
 "cells": [
  {
   "cell_type": "markdown",
   "metadata": {},
   "source": [
    "### The Truth Behind the Quadratic Formula"
   ]
  },
  {
   "cell_type": "markdown",
   "metadata": {},
   "source": [
    "In math there are many important formulas that one must know. One of the most important formulas you must know is the quadratic formula. This formula is to (of course) solve quadratic equations. A quadratic equation looks like the following: $${ax^2 + bx + c = 0}$$\n",
    "\n",
    "Once you realize you are dealing with a quadratic equation then you can use the quadratic formula, which is the following: $$x=\\frac{-b\\pm\\sqrt{b^2-4ac}}{2a}$$\n",
    "\n",
    "Now we will see an example of a quadratic equation and how we will solve it with the quadratic formula. Let's say we have the following equation: $${6x^2 + 11x - 35 = 0}$$\n",
    "\n",
    "With this formula we can see that 6 will act as A, 11 will act as B, and -35 will act as C. We then plug in these values into the quadratic formula. It will look like this: $$x=\\frac{-(11)\\pm\\sqrt{(11)^2-4(6)(-35)}}{2(6)}$$\n",
    "\n",
    "Finally we can simply solve this equation. The answers would then be $\\frac{-7}{2}$ and $\\frac{5}{3}$"
   ]
  }
 ],
 "metadata": {
  "kernelspec": {
   "display_name": "Python 3",
   "language": "python",
   "name": "python3"
  },
  "language_info": {
   "codemirror_mode": {
    "name": "ipython",
    "version": 3
   },
   "file_extension": ".py",
   "mimetype": "text/x-python",
   "name": "python",
   "nbconvert_exporter": "python",
   "pygments_lexer": "ipython3",
   "version": "3.4.4"
  }
 },
 "nbformat": 4,
 "nbformat_minor": 0
}
